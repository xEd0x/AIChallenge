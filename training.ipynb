{
  "nbformat": 4,
  "nbformat_minor": 0,
  "metadata": {
    "colab": {
      "name": "training.ipynb",
      "provenance": [],
      "collapsed_sections": [],
      "authorship_tag": "ABX9TyN/ZGA9OtpZpCwWE8V++Sxb"
    },
    "kernelspec": {
      "name": "python3",
      "display_name": "Python 3"
    }
  },
  "cells": [
    {
      "cell_type": "code",
      "metadata": {
        "id": "Xa9ElAJUZWvJ",
        "colab_type": "code",
        "colab": {}
      },
      "source": [
        "import pandas as pd\n",
        "from sklearn import preprocessing\n",
        "from sklearn.preprocessing import StandardScaler\n",
        "\n",
        "import keras\n",
        "from keras.models import Sequential\n",
        "from keras.layers import Dense"
      ],
      "execution_count": 36,
      "outputs": []
    },
    {
      "cell_type": "markdown",
      "metadata": {
        "id": "xoY425aBcUGI",
        "colab_type": "text"
      },
      "source": [
        "Importo i moduli necessari"
      ]
    },
    {
      "cell_type": "code",
      "metadata": {
        "id": "NQvNUXf9cZs8",
        "colab_type": "code",
        "colab": {}
      },
      "source": [
        "data = pd.read_csv('train.csv')\n",
        "test = pd.read_csv('test.csv')"
      ],
      "execution_count": 37,
      "outputs": []
    },
    {
      "cell_type": "markdown",
      "metadata": {
        "id": "0QuHSNNUcaXx",
        "colab_type": "text"
      },
      "source": [
        "Leggo il dataset di train"
      ]
    },
    {
      "cell_type": "code",
      "metadata": {
        "id": "ttv-UgXKcb-Q",
        "colab_type": "code",
        "colab": {}
      },
      "source": [
        "label_encoder = preprocessing.LabelEncoder()\n",
        "data = data.apply(label_encoder.fit_transform)"
      ],
      "execution_count": 38,
      "outputs": []
    },
    {
      "cell_type": "markdown",
      "metadata": {
        "id": "6bMAB-MJcd--",
        "colab_type": "text"
      },
      "source": [
        "Applico la label_encoding, preferendola alla OneHot che risulta troppo dispendiosa, avendo 14 feature"
      ]
    },
    {
      "cell_type": "code",
      "metadata": {
        "id": "mb-5WCOMcmxJ",
        "colab_type": "code",
        "colab": {}
      },
      "source": [
        "y = data['No-show']\n",
        "x = data.drop('No-show', axis = 1)\n",
        "\n",
        "sc = StandardScaler()\n",
        "x = sc.fit_transform(x)"
      ],
      "execution_count": 39,
      "outputs": []
    },
    {
      "cell_type": "markdown",
      "metadata": {
        "id": "QeBd4wakcnNN",
        "colab_type": "text"
      },
      "source": [
        "Divido le feature in y e x, come in precedenza, per distinguere quella di target. In più normalizzo i dati di training"
      ]
    },
    {
      "cell_type": "code",
      "metadata": {
        "id": "ZOfM-TGfcyNf",
        "colab_type": "code",
        "colab": {}
      },
      "source": [
        "model = Sequential()\n",
        "model.add(Dense(14, input_dim = 14, activation = 'relu'))\n",
        "model.add(Dense(8, activation = 'relu'))\n",
        "model.add(Dense(1, activation = 'sigmoid'))"
      ],
      "execution_count": 40,
      "outputs": []
    },
    {
      "cell_type": "markdown",
      "metadata": {
        "id": "en5BTMjKcyyV",
        "colab_type": "text"
      },
      "source": [
        "Creo la rete neurale, 14 nodi di input come le feature, uno strato nascosto ed uno di output. La funzione di attivazione dello stato di output è una sigmoide e non una softmax, in quanto abbiamo soltanto due classi possibli (sì, no)"
      ]
    },
    {
      "cell_type": "code",
      "metadata": {
        "id": "89wmBoTzdAKl",
        "colab_type": "code",
        "colab": {
          "base_uri": "https://localhost:8080/",
          "height": 1000
        },
        "outputId": "c2a44f99-aed4-49b1-b5d1-4c35faf3aaa0"
      },
      "source": [
        "model.compile(loss = 'binary_crossentropy', optimizer = 'adam', metrics = ['accuracy'])\n",
        "history = model.fit(x, y, epochs = 100, batch_size = 64)"
      ],
      "execution_count": 41,
      "outputs": [
        {
          "output_type": "stream",
          "text": [
            "Epoch 1/100\n",
            "66315/66315 [==============================] - 1s 21us/step - loss: 0.5185 - accuracy: 0.7696\n",
            "Epoch 2/100\n",
            "66315/66315 [==============================] - 1s 19us/step - loss: 0.4709 - accuracy: 0.7968\n",
            "Epoch 3/100\n",
            "66315/66315 [==============================] - 1s 19us/step - loss: 0.4654 - accuracy: 0.7973\n",
            "Epoch 4/100\n",
            "66315/66315 [==============================] - 1s 19us/step - loss: 0.4629 - accuracy: 0.7973\n",
            "Epoch 5/100\n",
            "66315/66315 [==============================] - 1s 19us/step - loss: 0.4611 - accuracy: 0.7973\n",
            "Epoch 6/100\n",
            "66315/66315 [==============================] - 1s 19us/step - loss: 0.4602 - accuracy: 0.7976\n",
            "Epoch 7/100\n",
            "66315/66315 [==============================] - 1s 19us/step - loss: 0.4593 - accuracy: 0.7973\n",
            "Epoch 8/100\n",
            "66315/66315 [==============================] - 1s 20us/step - loss: 0.4583 - accuracy: 0.7975\n",
            "Epoch 9/100\n",
            "66315/66315 [==============================] - 1s 19us/step - loss: 0.4574 - accuracy: 0.7978\n",
            "Epoch 10/100\n",
            "66315/66315 [==============================] - 1s 19us/step - loss: 0.4567 - accuracy: 0.7975\n",
            "Epoch 11/100\n",
            "66315/66315 [==============================] - 1s 19us/step - loss: 0.4560 - accuracy: 0.7976\n",
            "Epoch 12/100\n",
            "66315/66315 [==============================] - 1s 19us/step - loss: 0.4555 - accuracy: 0.7975\n",
            "Epoch 13/100\n",
            "66315/66315 [==============================] - 1s 20us/step - loss: 0.4552 - accuracy: 0.7974\n",
            "Epoch 14/100\n",
            "66315/66315 [==============================] - 1s 19us/step - loss: 0.4547 - accuracy: 0.7975\n",
            "Epoch 15/100\n",
            "66315/66315 [==============================] - 1s 20us/step - loss: 0.4546 - accuracy: 0.7973\n",
            "Epoch 16/100\n",
            "66315/66315 [==============================] - 1s 20us/step - loss: 0.4540 - accuracy: 0.7975\n",
            "Epoch 17/100\n",
            "66315/66315 [==============================] - 1s 19us/step - loss: 0.4537 - accuracy: 0.7976\n",
            "Epoch 18/100\n",
            "66315/66315 [==============================] - 1s 20us/step - loss: 0.4534 - accuracy: 0.7976\n",
            "Epoch 19/100\n",
            "66315/66315 [==============================] - 1s 19us/step - loss: 0.4532 - accuracy: 0.7976\n",
            "Epoch 20/100\n",
            "66315/66315 [==============================] - 1s 19us/step - loss: 0.4531 - accuracy: 0.7977\n",
            "Epoch 21/100\n",
            "66315/66315 [==============================] - 1s 19us/step - loss: 0.4530 - accuracy: 0.7974\n",
            "Epoch 22/100\n",
            "66315/66315 [==============================] - 1s 19us/step - loss: 0.4528 - accuracy: 0.7977\n",
            "Epoch 23/100\n",
            "66315/66315 [==============================] - 1s 19us/step - loss: 0.4525 - accuracy: 0.7976\n",
            "Epoch 24/100\n",
            "66315/66315 [==============================] - 1s 20us/step - loss: 0.4526 - accuracy: 0.7978\n",
            "Epoch 25/100\n",
            "66315/66315 [==============================] - 1s 19us/step - loss: 0.4524 - accuracy: 0.7982\n",
            "Epoch 26/100\n",
            "66315/66315 [==============================] - 1s 19us/step - loss: 0.4523 - accuracy: 0.7977\n",
            "Epoch 27/100\n",
            "66315/66315 [==============================] - 1s 19us/step - loss: 0.4523 - accuracy: 0.7975\n",
            "Epoch 28/100\n",
            "66315/66315 [==============================] - 1s 19us/step - loss: 0.4523 - accuracy: 0.7977\n",
            "Epoch 29/100\n",
            "66315/66315 [==============================] - 1s 19us/step - loss: 0.4520 - accuracy: 0.7975\n",
            "Epoch 30/100\n",
            "66315/66315 [==============================] - 1s 19us/step - loss: 0.4520 - accuracy: 0.7978\n",
            "Epoch 31/100\n",
            "66315/66315 [==============================] - 1s 19us/step - loss: 0.4520 - accuracy: 0.7979\n",
            "Epoch 32/100\n",
            "66315/66315 [==============================] - 1s 19us/step - loss: 0.4518 - accuracy: 0.7977\n",
            "Epoch 33/100\n",
            "66315/66315 [==============================] - 1s 19us/step - loss: 0.4517 - accuracy: 0.7977\n",
            "Epoch 34/100\n",
            "66315/66315 [==============================] - 1s 19us/step - loss: 0.4517 - accuracy: 0.7978\n",
            "Epoch 35/100\n",
            "66315/66315 [==============================] - 1s 19us/step - loss: 0.4516 - accuracy: 0.7977\n",
            "Epoch 36/100\n",
            "66315/66315 [==============================] - 1s 19us/step - loss: 0.4517 - accuracy: 0.7976\n",
            "Epoch 37/100\n",
            "66315/66315 [==============================] - 1s 19us/step - loss: 0.4514 - accuracy: 0.7975\n",
            "Epoch 38/100\n",
            "66315/66315 [==============================] - 1s 19us/step - loss: 0.4513 - accuracy: 0.7978\n",
            "Epoch 39/100\n",
            "66315/66315 [==============================] - 1s 19us/step - loss: 0.4513 - accuracy: 0.7977\n",
            "Epoch 40/100\n",
            "66315/66315 [==============================] - 1s 19us/step - loss: 0.4513 - accuracy: 0.7980\n",
            "Epoch 41/100\n",
            "66315/66315 [==============================] - 1s 19us/step - loss: 0.4513 - accuracy: 0.7983\n",
            "Epoch 42/100\n",
            "66315/66315 [==============================] - 1s 19us/step - loss: 0.4512 - accuracy: 0.7981\n",
            "Epoch 43/100\n",
            "66315/66315 [==============================] - 1s 19us/step - loss: 0.4512 - accuracy: 0.7978\n",
            "Epoch 44/100\n",
            "66315/66315 [==============================] - 1s 19us/step - loss: 0.4511 - accuracy: 0.7982\n",
            "Epoch 45/100\n",
            "66315/66315 [==============================] - 1s 19us/step - loss: 0.4510 - accuracy: 0.7975\n",
            "Epoch 46/100\n",
            "66315/66315 [==============================] - 1s 19us/step - loss: 0.4510 - accuracy: 0.7980\n",
            "Epoch 47/100\n",
            "66315/66315 [==============================] - 1s 19us/step - loss: 0.4510 - accuracy: 0.7980\n",
            "Epoch 48/100\n",
            "66315/66315 [==============================] - 1s 19us/step - loss: 0.4511 - accuracy: 0.7980\n",
            "Epoch 49/100\n",
            "66315/66315 [==============================] - 1s 19us/step - loss: 0.4510 - accuracy: 0.7978\n",
            "Epoch 50/100\n",
            "66315/66315 [==============================] - 1s 19us/step - loss: 0.4508 - accuracy: 0.7977\n",
            "Epoch 51/100\n",
            "66315/66315 [==============================] - 1s 18us/step - loss: 0.4508 - accuracy: 0.7978\n",
            "Epoch 52/100\n",
            "66315/66315 [==============================] - 1s 18us/step - loss: 0.4507 - accuracy: 0.7978\n",
            "Epoch 53/100\n",
            "66315/66315 [==============================] - 1s 19us/step - loss: 0.4506 - accuracy: 0.7977\n",
            "Epoch 54/100\n",
            "66315/66315 [==============================] - 1s 19us/step - loss: 0.4507 - accuracy: 0.7978\n",
            "Epoch 55/100\n",
            "66315/66315 [==============================] - 1s 19us/step - loss: 0.4507 - accuracy: 0.7978\n",
            "Epoch 56/100\n",
            "66315/66315 [==============================] - 1s 19us/step - loss: 0.4508 - accuracy: 0.7977\n",
            "Epoch 57/100\n",
            "66315/66315 [==============================] - 1s 19us/step - loss: 0.4507 - accuracy: 0.7979\n",
            "Epoch 58/100\n",
            "66315/66315 [==============================] - 1s 19us/step - loss: 0.4506 - accuracy: 0.7981\n",
            "Epoch 59/100\n",
            "66315/66315 [==============================] - 1s 19us/step - loss: 0.4505 - accuracy: 0.7977\n",
            "Epoch 60/100\n",
            "66315/66315 [==============================] - 1s 19us/step - loss: 0.4507 - accuracy: 0.7977\n",
            "Epoch 61/100\n",
            "66315/66315 [==============================] - 1s 19us/step - loss: 0.4507 - accuracy: 0.7977\n",
            "Epoch 62/100\n",
            "66315/66315 [==============================] - 1s 19us/step - loss: 0.4506 - accuracy: 0.7976\n",
            "Epoch 63/100\n",
            "66315/66315 [==============================] - 1s 19us/step - loss: 0.4506 - accuracy: 0.7976\n",
            "Epoch 64/100\n",
            "66315/66315 [==============================] - 1s 19us/step - loss: 0.4507 - accuracy: 0.7978\n",
            "Epoch 65/100\n",
            "66315/66315 [==============================] - 1s 19us/step - loss: 0.4504 - accuracy: 0.7978\n",
            "Epoch 66/100\n",
            "66315/66315 [==============================] - 1s 19us/step - loss: 0.4506 - accuracy: 0.7980\n",
            "Epoch 67/100\n",
            "66315/66315 [==============================] - 1s 19us/step - loss: 0.4505 - accuracy: 0.7978\n",
            "Epoch 68/100\n",
            "66315/66315 [==============================] - 1s 18us/step - loss: 0.4505 - accuracy: 0.7980\n",
            "Epoch 69/100\n",
            "66315/66315 [==============================] - 1s 19us/step - loss: 0.4506 - accuracy: 0.7977\n",
            "Epoch 70/100\n",
            "66315/66315 [==============================] - 1s 19us/step - loss: 0.4505 - accuracy: 0.7978\n",
            "Epoch 71/100\n",
            "66315/66315 [==============================] - 1s 19us/step - loss: 0.4502 - accuracy: 0.7979\n",
            "Epoch 72/100\n",
            "66315/66315 [==============================] - 1s 19us/step - loss: 0.4505 - accuracy: 0.7975\n",
            "Epoch 73/100\n",
            "66315/66315 [==============================] - 1s 19us/step - loss: 0.4504 - accuracy: 0.7979\n",
            "Epoch 74/100\n",
            "66315/66315 [==============================] - 1s 20us/step - loss: 0.4502 - accuracy: 0.7980\n",
            "Epoch 75/100\n",
            "66315/66315 [==============================] - 1s 19us/step - loss: 0.4502 - accuracy: 0.7980\n",
            "Epoch 76/100\n",
            "66315/66315 [==============================] - 1s 19us/step - loss: 0.4504 - accuracy: 0.7979\n",
            "Epoch 77/100\n",
            "66315/66315 [==============================] - 1s 19us/step - loss: 0.4502 - accuracy: 0.7973\n",
            "Epoch 78/100\n",
            "66315/66315 [==============================] - 1s 19us/step - loss: 0.4502 - accuracy: 0.7976\n",
            "Epoch 79/100\n",
            "66315/66315 [==============================] - 1s 19us/step - loss: 0.4503 - accuracy: 0.7976\n",
            "Epoch 80/100\n",
            "66315/66315 [==============================] - 1s 20us/step - loss: 0.4502 - accuracy: 0.7977\n",
            "Epoch 81/100\n",
            "66315/66315 [==============================] - 1s 19us/step - loss: 0.4502 - accuracy: 0.7983\n",
            "Epoch 82/100\n",
            "66315/66315 [==============================] - 1s 19us/step - loss: 0.4503 - accuracy: 0.7979\n",
            "Epoch 83/100\n",
            "66315/66315 [==============================] - 1s 19us/step - loss: 0.4501 - accuracy: 0.7977\n",
            "Epoch 84/100\n",
            "66315/66315 [==============================] - 1s 19us/step - loss: 0.4502 - accuracy: 0.7980\n",
            "Epoch 85/100\n",
            "66315/66315 [==============================] - 1s 19us/step - loss: 0.4501 - accuracy: 0.7975\n",
            "Epoch 86/100\n",
            "66315/66315 [==============================] - 1s 19us/step - loss: 0.4502 - accuracy: 0.7980\n",
            "Epoch 87/100\n",
            "66315/66315 [==============================] - 1s 19us/step - loss: 0.4499 - accuracy: 0.7978\n",
            "Epoch 88/100\n",
            "66315/66315 [==============================] - 1s 19us/step - loss: 0.4502 - accuracy: 0.7977\n",
            "Epoch 89/100\n",
            "66315/66315 [==============================] - 1s 19us/step - loss: 0.4501 - accuracy: 0.7975\n",
            "Epoch 90/100\n",
            "66315/66315 [==============================] - 1s 19us/step - loss: 0.4500 - accuracy: 0.7979\n",
            "Epoch 91/100\n",
            "66315/66315 [==============================] - 1s 19us/step - loss: 0.4500 - accuracy: 0.7977\n",
            "Epoch 92/100\n",
            "66315/66315 [==============================] - 1s 19us/step - loss: 0.4499 - accuracy: 0.7979\n",
            "Epoch 93/100\n",
            "66315/66315 [==============================] - 1s 19us/step - loss: 0.4500 - accuracy: 0.7976\n",
            "Epoch 94/100\n",
            "66315/66315 [==============================] - 1s 19us/step - loss: 0.4497 - accuracy: 0.7977\n",
            "Epoch 95/100\n",
            "66315/66315 [==============================] - 1s 19us/step - loss: 0.4498 - accuracy: 0.7977\n",
            "Epoch 96/100\n",
            "66315/66315 [==============================] - 1s 19us/step - loss: 0.4499 - accuracy: 0.7976\n",
            "Epoch 97/100\n",
            "66315/66315 [==============================] - 1s 19us/step - loss: 0.4497 - accuracy: 0.7978\n",
            "Epoch 98/100\n",
            "66315/66315 [==============================] - 1s 19us/step - loss: 0.4497 - accuracy: 0.7977\n",
            "Epoch 99/100\n",
            "66315/66315 [==============================] - 1s 19us/step - loss: 0.4496 - accuracy: 0.7975\n",
            "Epoch 100/100\n",
            "66315/66315 [==============================] - 1s 19us/step - loss: 0.4496 - accuracy: 0.7975\n"
          ],
          "name": "stdout"
        }
      ]
    },
    {
      "cell_type": "markdown",
      "metadata": {
        "id": "HfDOAKOadCV2",
        "colab_type": "text"
      },
      "source": [
        "Addestro la rete sui dati del training set"
      ]
    },
    {
      "cell_type": "code",
      "metadata": {
        "id": "ZWhzoxO4o-KB",
        "colab_type": "code",
        "colab": {
          "base_uri": "https://localhost:8080/",
          "height": 51
        },
        "outputId": "8ff3a02b-6478-462f-8ed4-0ed039c239fd"
      },
      "source": [
        "test = test.apply(label_encoder.fit_transform)\n",
        "\n",
        "y_test = test['No-show']\n",
        "x_test = test.drop('No-show', axis = 1)\n",
        "\n",
        "x_test = sc.fit_transform(x_test)\n",
        "\n",
        "_, accuracy = model.evaluate(x_test, y_test)\n",
        "\n",
        "print('Accuracy %.2f' % (accuracy * 100))"
      ],
      "execution_count": 51,
      "outputs": [
        {
          "output_type": "stream",
          "text": [
            "22106/22106 [==============================] - 0s 19us/step\n",
            "Accuracy 79.89\n"
          ],
          "name": "stdout"
        }
      ]
    },
    {
      "cell_type": "markdown",
      "metadata": {
        "id": "hAjt1wwipW7Q",
        "colab_type": "text"
      },
      "source": [
        "Testo l'accuracy della rete utilizzando il training set"
      ]
    }
  ]
}