{
  "nbformat": 4,
  "nbformat_minor": 0,
  "metadata": {
    "colab": {
      "name": "training.ipynb",
      "provenance": [],
      "collapsed_sections": [],
      "authorship_tag": "ABX9TyO5NsYApX5qxPJobqd8QYpz"
    },
    "kernelspec": {
      "name": "python3",
      "display_name": "Python 3"
    }
  },
  "cells": [
    {
      "cell_type": "code",
      "metadata": {
        "id": "Xa9ElAJUZWvJ",
        "colab_type": "code",
        "colab": {}
      },
      "source": [
        "import pandas as pd\n",
        "from sklearn import preprocessing\n",
        "from sklearn.preprocessing import StandardScaler\n",
        "\n",
        "import keras\n",
        "from keras.models import Sequential\n",
        "from keras.layers import Dense"
      ],
      "execution_count": null,
      "outputs": []
    },
    {
      "cell_type": "markdown",
      "metadata": {
        "id": "xoY425aBcUGI",
        "colab_type": "text"
      },
      "source": [
        "Importo i moduli necessari"
      ]
    },
    {
      "cell_type": "code",
      "metadata": {
        "id": "NQvNUXf9cZs8",
        "colab_type": "code",
        "colab": {}
      },
      "source": [
        "data = pd.read_csv('./train.csv')\n",
        "test = pd.read_csv('./test.csv')"
      ],
      "execution_count": null,
      "outputs": []
    },
    {
      "cell_type": "markdown",
      "metadata": {
        "id": "0QuHSNNUcaXx",
        "colab_type": "text"
      },
      "source": [
        "Leggo il dataset di train"
      ]
    },
    {
      "cell_type": "code",
      "metadata": {
        "id": "ttv-UgXKcb-Q",
        "colab_type": "code",
        "colab": {}
      },
      "source": [
        "label_encoder = preprocessing.LabelEncoder()\n",
        "data = data.apply(label_encoder.fit_transform)"
      ],
      "execution_count": null,
      "outputs": []
    },
    {
      "cell_type": "markdown",
      "metadata": {
        "id": "6bMAB-MJcd--",
        "colab_type": "text"
      },
      "source": [
        "Applico la label_encoding, preferendola alla OneHot che risulta troppo dispendiosa, avendo 14 feature"
      ]
    },
    {
      "cell_type": "code",
      "metadata": {
        "id": "mb-5WCOMcmxJ",
        "colab_type": "code",
        "colab": {}
      },
      "source": [
        "y = data['No-show']\n",
        "x = data.drop('No-show', axis = 1)\n",
        "\n",
        "sc = StandardScaler()\n",
        "x = sc.fit_transform(x)"
      ],
      "execution_count": null,
      "outputs": []
    },
    {
      "cell_type": "markdown",
      "metadata": {
        "id": "QeBd4wakcnNN",
        "colab_type": "text"
      },
      "source": [
        "Divido le feature in y e x, come in precedenza, per distinguere quella di target. In più normalizzo i dati di training"
      ]
    },
    {
      "cell_type": "code",
      "metadata": {
        "id": "ZOfM-TGfcyNf",
        "colab_type": "code",
        "colab": {}
      },
      "source": [
        "model = Sequential()\n",
        "model.add(Dense(14, input_dim = 14, activation = 'relu'))\n",
        "model.add(Dense(8, activation = 'relu'))\n",
        "model.add(Dense(1, activation = 'sigmoid'))"
      ],
      "execution_count": null,
      "outputs": []
    },
    {
      "cell_type": "markdown",
      "metadata": {
        "id": "en5BTMjKcyyV",
        "colab_type": "text"
      },
      "source": [
        "Creo la rete neurale, 14 nodi di input come le feature, uno strato nascosto ed uno di output. La funzione di attivazione dello stato di output è una sigmoide e non una softmax, in quanto abbiamo soltanto due classi possibli (sì, no)"
      ]
    },
    {
      "cell_type": "code",
      "metadata": {
        "id": "89wmBoTzdAKl",
        "colab_type": "code",
        "colab": {}
      },
      "source": [
        "model.compile(loss = 'binary_crossentropy', optimizer = 'adam', metrics = ['accuracy'])\n",
        "history = model.fit(x, y, epochs = 100, batch_size = 64)"
      ],
      "execution_count": null,
      "outputs": []
    },
    {
      "cell_type": "markdown",
      "metadata": {
        "id": "HfDOAKOadCV2",
        "colab_type": "text"
      },
      "source": [
        "Addestro la rete sui dati del training set"
      ]
    },
    {
      "cell_type": "code",
      "metadata": {
        "id": "ZWhzoxO4o-KB",
        "colab_type": "code",
        "colab": {}
      },
      "source": [
        "test = test.apply(label_encoder.fit_transform)\n",
        "\n",
        "y_test = test['No-show']\n",
        "x_test = test.drop('No-show', axis = 1)\n",
        "\n",
        "x_test = sc.fit_transform(x_test)\n",
        "\n",
        "_, accuracy = model.evaluate(x_test, y_test)\n",
        "\n",
        "print('Accuracy %.2f' % (accuracy * 100))"
      ],
      "execution_count": null,
      "outputs": []
    },
    {
      "cell_type": "markdown",
      "metadata": {
        "id": "hAjt1wwipW7Q",
        "colab_type": "text"
      },
      "source": [
        "Testo l'accuracy della rete utilizzando il test set"
      ]
    }
  ]
}
