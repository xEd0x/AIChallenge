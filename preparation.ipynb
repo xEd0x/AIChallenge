{
  "nbformat": 4,
  "nbformat_minor": 0,
  "metadata": {
    "colab": {
      "name": "preparation.ipynb",
      "provenance": [],
      "collapsed_sections": [],
      "toc_visible": true,
      "authorship_tag": "ABX9TyPA+eJ5QpwxKS9C5SLA8Pfj"
    },
    "kernelspec": {
      "name": "python3",
      "display_name": "Python 3"
    }
  },
  "cells": [
    {
      "cell_type": "code",
      "metadata": {
        "id": "eCpaY68zvzpQ",
        "colab_type": "code",
        "colab": {}
      },
      "source": [
        "import pandas as pd\n",
        "from sklearn.model_selection import train_test_split"
      ],
      "execution_count": null,
      "outputs": []
    },
    {
      "cell_type": "markdown",
      "metadata": {
        "id": "oJvZaIXfSaXA",
        "colab_type": "text"
      },
      "source": [
        "Importo i moduli necessari"
      ]
    },
    {
      "cell_type": "code",
      "metadata": {
        "id": "rmKFU0OsSg4L",
        "colab_type": "code",
        "colab": {}
      },
      "source": [
        "data = pd.read_csv('appointment_data.csv')\n",
        "\n",
        "y = data['No-show']\n",
        "x = data.drop('No-show', axis = 1)"
      ],
      "execution_count": null,
      "outputs": []
    },
    {
      "cell_type": "markdown",
      "metadata": {
        "id": "nJcab-uzSjX-",
        "colab_type": "text"
      },
      "source": [
        "Leggo il dataset e divido le feature: \"y\" è quella di target, ovvero la feature della predizione sul cliente che si presenterà o meno, le altre 13 (\"x\") invece servono per la stima. Non faccio particolari operazioni sulle feature perché ritengo che siano tutte da prendere in considerazione\n"
      ]
    },
    {
      "cell_type": "code",
      "metadata": {
        "id": "BF-FRLxkSz_i",
        "colab_type": "code",
        "colab": {}
      },
      "source": [
        "x_train,x_test,y_train,y_test = train_test_split(x, y)\n",
        "\n",
        "train = pd.concat([x_train, y_train], axis=1)\n",
        "test = pd.concat([x_test, y_test], axis=1)\n",
        "\n",
        "test.to_csv('test.csv')\n",
        "train.to_csv('train.csv')"
      ],
      "execution_count": null,
      "outputs": []
    },
    {
      "cell_type": "markdown",
      "metadata": {
        "id": "F3ku9uTRTAGC",
        "colab_type": "text"
      },
      "source": [
        "Suddivido il dataset in training set e test set, dando ovviamente la maggioranza al training set\n"
      ]
    }
  ]
}